{
  "nbformat": 4,
  "nbformat_minor": 0,
  "metadata": {
    "colab": {
      "provenance": [],
      "authorship_tag": "ABX9TyPYJ6jz2vVHFu5ZdwXCOQIQ",
      "include_colab_link": true
    },
    "kernelspec": {
      "name": "python3",
      "display_name": "Python 3"
    },
    "language_info": {
      "name": "python"
    }
  },
  "cells": [
    {
      "cell_type": "markdown",
      "metadata": {
        "id": "view-in-github",
        "colab_type": "text"
      },
      "source": [
        "<a href=\"https://colab.research.google.com/github/jasmine1313/sampling-assignmnet/blob/main/Untitled33.ipynb\" target=\"_parent\"><img src=\"https://colab.research.google.com/assets/colab-badge.svg\" alt=\"Open In Colab\"/></a>"
      ]
    },
    {
      "cell_type": "code",
      "execution_count": null,
      "metadata": {
        "colab": {
          "base_uri": "https://localhost:8080/"
        },
        "id": "L5reO9jJsYKO",
        "outputId": "fb21cb65-87d3-4995-9343-ca4fdca120b7"
      },
      "outputs": [
        {
          "output_type": "stream",
          "name": "stdout",
          "text": [
            "0      0\n",
            "1      1\n",
            "2      0\n",
            "3      0\n",
            "4      0\n",
            "      ..\n",
            "767    0\n",
            "768    0\n",
            "769    0\n",
            "770    0\n",
            "771    0\n",
            "Name: Class, Length: 772, dtype: int64\n"
          ]
        }
      ],
      "source": [
        "import pandas as pd\n",
        "import numpy as np\n",
        "\n",
        "np.random.seed(0)\n",
        "\n",
        "df = pd.read_csv(\"/content/Creditcard_data.csv\")\n",
        "x=df.iloc[:,:30]\n",
        "y=df.iloc[:,-1]\n",
        "print(df['Class'])"
      ]
    },
    {
      "cell_type": "code",
      "source": [
        "\n",
        "df.shape"
      ],
      "metadata": {
        "id": "d1pggTK9xyZ_",
        "outputId": "63c9bdb9-c909-4622-9b27-7f2d12514071",
        "colab": {
          "base_uri": "https://localhost:8080/"
        }
      },
      "execution_count": null,
      "outputs": [
        {
          "output_type": "execute_result",
          "data": {
            "text/plain": [
              "(772, 31)"
            ]
          },
          "metadata": {},
          "execution_count": 13
        }
      ]
    },
    {
      "cell_type": "code",
      "source": [
        "\n",
        "from sklearn.model_selection import train_test_split\n",
        "X_train, X_test, y_train, y_test = train_test_split(x, y, test_size = 0.25, random_state = 0)\n"
      ],
      "metadata": {
        "id": "Kyr0RPk6uURm"
      },
      "execution_count": null,
      "outputs": []
    },
    {
      "cell_type": "code",
      "source": [
        "from sklearn.linear_model import LogisticRegression\n",
        "\n",
        "def train_logreg(X_train, y_train):\n",
        "    # Create an instance of the logistic regression class\n",
        "    logreg = LogisticRegression()\n",
        "\n",
        "    # Train the logistic regression model on the training data\n",
        "    logreg.fit(X_train, y_train)\n",
        "\n",
        "    return logreg\n"
      ],
      "metadata": {
        "id": "DBLcbXifxCxV"
      },
      "execution_count": null,
      "outputs": []
    },
    {
      "cell_type": "code",
      "source": [
        "from imblearn.under_sampling import RandomUnderSampler\n",
        "\n",
        "def sampling1(X_train,y_train):\n",
        "    X_sampled,y_sampled = RandomUnderSampler.fit_resample(X_train,y_train)\n",
        "    return X_sampled,y_sampled"
      ],
      "metadata": {
        "id": "bRkUY9NFv5Uc"
      },
      "execution_count": null,
      "outputs": []
    },
    {
      "cell_type": "code",
      "source": [
        "from imblearn.over_sampling import RandomOverSampler\n",
        "\n",
        "def sampling2():\n",
        "    X_sampled,y_sampled = RandomOverSampler.fit_resample(X_train,y_train)\n",
        "    return X_sampled,y_sampled"
      ],
      "metadata": {
        "id": "7wIGGP80v-RU"
      },
      "execution_count": null,
      "outputs": []
    },
    {
      "cell_type": "code",
      "source": [
        "from imblearn.over_sampling import SMOTE\n",
        "\n",
        "def sampling3(X_train,y_train):\n",
        "    X_sampled,y_sampled = SMOTE.fit_resample(X_train,y_train)\n",
        "    return X_sampled,y_sampled"
      ],
      "metadata": {
        "id": "FjGKnnvewBJV"
      },
      "execution_count": null,
      "outputs": []
    },
    {
      "cell_type": "code",
      "source": [
        "from imblearn.under_sampling import TomekLinks\n",
        "\n",
        "def sampling4(sampling_strategy='majority'):\n",
        "    X_sampled,y_sampled = TomekLinks.fit_resample(X_train,y_train)\n",
        "    return X_sampled,y_sampled"
      ],
      "metadata": {
        "id": "4DGwjy-xwEPV"
      },
      "execution_count": null,
      "outputs": []
    },
    {
      "cell_type": "code",
      "source": [
        "from imblearn.under_sampling import NearMiss\n",
        "\n",
        "def sampling5():\n",
        "    X_sampled,y_sampled = NearMiss.fit_resample(X_train,y_train)\n",
        "    return X_sampled,y_sampled"
      ],
      "metadata": {
        "id": "4PX81SCSwI_9"
      },
      "execution_count": null,
      "outputs": []
    },
    {
      "cell_type": "code",
      "source": [
        "final_df = {}\n",
        "final_df['KNN']=[]\n",
        "final_df['Randomforest']=[]\n",
        "final_df['SVC']=[]\n",
        "final_df['Naivebayes']=[]\n",
        "final_df['Decision_tree']=[]"
      ],
      "metadata": {
        "id": "AME6IMx3w3O0"
      },
      "execution_count": null,
      "outputs": []
    }
  ]
}